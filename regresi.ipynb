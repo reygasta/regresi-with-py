{
  "nbformat": 4,
  "nbformat_minor": 0,
  "metadata": {
    "colab": {
      "provenance": []
    },
    "kernelspec": {
      "name": "python3",
      "display_name": "Python 3"
    },
    "language_info": {
      "name": "python"
    }
  },
  "cells": [
    {
      "cell_type": "code",
      "execution_count": 34,
      "metadata": {
        "id": "EDO2YZzt-OHk"
      },
      "outputs": [],
      "source": [
        "import statsmodels.api as sm\n",
        "import pandas as pd"
      ]
    },
    {
      "cell_type": "code",
      "source": [
        "# data Kemampuan Visualisasi\n",
        "data = {'X': [15, 22, 16, 20, 14, 18, 15, 12, 19, 23], #Non ChatGPT\n",
        "        'Y': [20, 18, 21, 22, 25, 28, 18, 21, 24, 27]} #Chat GPT"
      ],
      "metadata": {
        "id": "l2tPFOyP-Olo"
      },
      "execution_count": 35,
      "outputs": []
    },
    {
      "cell_type": "code",
      "source": [
        "df = pd.DataFrame(data)"
      ],
      "metadata": {
        "id": "VBd5y7B5_Jyo"
      },
      "execution_count": 36,
      "outputs": []
    },
    {
      "cell_type": "code",
      "source": [
        "# Tentukan variabel independen (X) dan variabel dependen (Y)\n",
        "X = df['X']\n",
        "y = df['Y']\n",
        "\n",
        "# Tambahkan konstanta ke variabel independen\n",
        "X = sm.add_constant(X)"
      ],
      "metadata": {
        "id": "wIyQq2oQ-cPj"
      },
      "execution_count": 37,
      "outputs": []
    },
    {
      "cell_type": "code",
      "source": [
        "# Tambahkan konstanta ke variabel independen\n",
        "X = sm.add_constant(X)"
      ],
      "metadata": {
        "id": "5JSeWvwV_IcT"
      },
      "execution_count": 38,
      "outputs": []
    },
    {
      "cell_type": "code",
      "source": [
        "# Buat model regresi\n",
        "model = sm.OLS(y, X)\n",
        "results = model.fit()"
      ],
      "metadata": {
        "id": "MLUgY1Kg_a27"
      },
      "execution_count": 39,
      "outputs": []
    },
    {
      "cell_type": "code",
      "source": [
        "# Tampilkan hasil\n",
        "print(results.summary())"
      ],
      "metadata": {
        "colab": {
          "base_uri": "https://localhost:8080/"
        },
        "id": "OKEScRZN_c4D",
        "outputId": "002a76cb-95ea-4565-886f-fa8b261c7efb"
      },
      "execution_count": 40,
      "outputs": [
        {
          "output_type": "stream",
          "name": "stdout",
          "text": [
            "                            OLS Regression Results                            \n",
            "==============================================================================\n",
            "Dep. Variable:                      Y   R-squared:                       0.058\n",
            "Model:                            OLS   Adj. R-squared:                 -0.059\n",
            "Method:                 Least Squares   F-statistic:                    0.4964\n",
            "Date:                Wed, 06 Dec 2023   Prob (F-statistic):              0.501\n",
            "Time:                        03:13:54   Log-Likelihood:                -25.896\n",
            "No. Observations:                  10   AIC:                             55.79\n",
            "Df Residuals:                       8   BIC:                             56.40\n",
            "Df Model:                           1                                         \n",
            "Covariance Type:            nonrobust                                         \n",
            "==============================================================================\n",
            "                 coef    std err          t      P>|t|      [0.025      0.975]\n",
            "------------------------------------------------------------------------------\n",
            "const         18.3041      5.924      3.090      0.015       4.643      31.965\n",
            "X              0.2354      0.334      0.705      0.501      -0.535       1.006\n",
            "==============================================================================\n",
            "Omnibus:                        0.124   Durbin-Watson:                   1.565\n",
            "Prob(Omnibus):                  0.940   Jarque-Bera (JB):                0.336\n",
            "Skew:                           0.028   Prob(JB):                        0.845\n",
            "Kurtosis:                       2.104   Cond. No.                         92.4\n",
            "==============================================================================\n",
            "\n",
            "Notes:\n",
            "[1] Standard Errors assume that the covariance matrix of the errors is correctly specified.\n"
          ]
        },
        {
          "output_type": "stream",
          "name": "stderr",
          "text": [
            "/usr/local/lib/python3.10/dist-packages/scipy/stats/_stats_py.py:1806: UserWarning: kurtosistest only valid for n>=20 ... continuing anyway, n=10\n",
            "  warnings.warn(\"kurtosistest only valid for n>=20 ... continuing \"\n"
          ]
        }
      ]
    },
    {
      "cell_type": "code",
      "source": [
        "# data Penggunaan Bahasa\n",
        "data = {'X': [17, 19, 15, 16, 19, 12, 17, 18, 17, 15], #Non ChatGPT\n",
        "        'Y': [8, 11, 13, 9, 11, 7, 10, 10, 7, 8]} #Chat GPT"
      ],
      "metadata": {
        "id": "N1SDEcSqASeC"
      },
      "execution_count": 47,
      "outputs": []
    },
    {
      "cell_type": "code",
      "source": [
        "df = pd.DataFrame(data)"
      ],
      "metadata": {
        "id": "mJ13lCfKAWVG"
      },
      "execution_count": 48,
      "outputs": []
    },
    {
      "cell_type": "code",
      "source": [
        "# Tentukan variabel independen (X) dan variabel dependen (Y)\n",
        "X = df['X']\n",
        "y = df['Y']\n",
        "\n",
        "# Tambahkan konstanta ke variabel independen\n",
        "X = sm.add_constant(X)"
      ],
      "metadata": {
        "id": "u4Uch3cyAbaG"
      },
      "execution_count": 49,
      "outputs": []
    },
    {
      "cell_type": "code",
      "source": [
        "# Tambahkan konstanta ke variabel independen\n",
        "X = sm.add_constant(X)"
      ],
      "metadata": {
        "id": "WQTE-T7nAcsW"
      },
      "execution_count": 50,
      "outputs": []
    },
    {
      "cell_type": "code",
      "source": [
        "# Buat model regresi\n",
        "model = sm.OLS(y, X)\n",
        "results = model.fit()"
      ],
      "metadata": {
        "id": "k_ZfKeX9AfDd"
      },
      "execution_count": 51,
      "outputs": []
    },
    {
      "cell_type": "code",
      "source": [
        "# Tampilkan hasil\n",
        "print(results.summary())"
      ],
      "metadata": {
        "colab": {
          "base_uri": "https://localhost:8080/"
        },
        "id": "CcO7aUa7Ah6M",
        "outputId": "9848f58d-ec9b-4c4e-9117-48ed953befbf"
      },
      "execution_count": 52,
      "outputs": [
        {
          "output_type": "stream",
          "name": "stdout",
          "text": [
            "                            OLS Regression Results                            \n",
            "==============================================================================\n",
            "Dep. Variable:                      Y   R-squared:                       0.161\n",
            "Model:                            OLS   Adj. R-squared:                  0.057\n",
            "Method:                 Least Squares   F-statistic:                     1.541\n",
            "Date:                Wed, 06 Dec 2023   Prob (F-statistic):              0.250\n",
            "Time:                        03:58:06   Log-Likelihood:                -19.486\n",
            "No. Observations:                  10   AIC:                             42.97\n",
            "Df Residuals:                       8   BIC:                             43.58\n",
            "Df Model:                           1                                         \n",
            "Covariance Type:            nonrobust                                         \n",
            "==============================================================================\n",
            "                 coef    std err          t      P>|t|      [0.025      0.975]\n",
            "------------------------------------------------------------------------------\n",
            "const          3.2889      4.960      0.663      0.526      -8.148      14.726\n",
            "X              0.3704      0.298      1.241      0.250      -0.318       1.058\n",
            "==============================================================================\n",
            "Omnibus:                        6.722   Durbin-Watson:                   1.751\n",
            "Prob(Omnibus):                  0.035   Jarque-Bera (JB):                2.361\n",
            "Skew:                           1.024   Prob(JB):                        0.307\n",
            "Kurtosis:                       4.212   Cond. No.                         138.\n",
            "==============================================================================\n",
            "\n",
            "Notes:\n",
            "[1] Standard Errors assume that the covariance matrix of the errors is correctly specified.\n"
          ]
        },
        {
          "output_type": "stream",
          "name": "stderr",
          "text": [
            "/usr/local/lib/python3.10/dist-packages/scipy/stats/_stats_py.py:1806: UserWarning: kurtosistest only valid for n>=20 ... continuing anyway, n=10\n",
            "  warnings.warn(\"kurtosistest only valid for n>=20 ... continuing \"\n"
          ]
        }
      ]
    },
    {
      "cell_type": "code",
      "source": [
        "'''0.00 - 0.19: Korelasi sangat lemah.\n",
        "0.20 - 0.39: Korelasi lemah.\n",
        "0.40 - 0.59: Korelasi sedang.\n",
        "0.60 - 0.79: Korelasi kuat.\n",
        "0.80 - 1.00: Korelasi sangat kuat.\n",
        "Sementara itu, nilai negatif menunjukkan hubungan negatif (saat satu variabel naik, yang lain turun), nilai positif menunjukkan hubungan positif (kedua variabel bergerak ke arah yang sama), dan nilai 0 menunjukkan tidak adanya korelasi.'''"
      ],
      "metadata": {
        "colab": {
          "base_uri": "https://localhost:8080/",
          "height": 73
        },
        "id": "laNlUw0VEbco",
        "outputId": "af89a337-d9c9-47bf-f54b-f7c0172f7da4"
      },
      "execution_count": null,
      "outputs": [
        {
          "output_type": "execute_result",
          "data": {
            "text/plain": [
              "'0.00 - 0.19: Korelasi sangat lemah.\\n0.20 - 0.39: Korelasi lemah.\\n0.40 - 0.59: Korelasi sedang.\\n0.60 - 0.79: Korelasi kuat.\\n0.80 - 1.00: Korelasi sangat kuat.\\nSementara itu, nilai negatif menunjukkan hubungan negatif (saat satu variabel naik, yang lain turun), nilai positif menunjukkan hubungan positif (kedua variabel bergerak ke arah yang sama), dan nilai 0 menunjukkan tidak adanya korelasi.'"
            ],
            "application/vnd.google.colaboratory.intrinsic+json": {
              "type": "string"
            }
          },
          "metadata": {},
          "execution_count": 33
        }
      ]
    }
  ]
}